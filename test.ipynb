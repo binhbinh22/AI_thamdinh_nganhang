{
 "cells": [
  {
   "cell_type": "code",
   "execution_count": 10,
   "metadata": {},
   "outputs": [
    {
     "name": "stderr",
     "output_type": "stream",
     "text": [
      "2024-10-10 11:26:04,451 - ERROR -                  run()->51]- ERROR RUN SERVICE!\n",
      "Traceback (most recent call last):\n",
      "  File \"/var/folders/6w/n21p66td2895by94s7yx_2f40000gn/T/ipykernel_5018/3699006697.py\", line 39, in run\n",
      "    df[columns_to_initialize] = None\n",
      "UnboundLocalError: local variable 'df' referenced before assignment\n"
     ]
    }
   ],
   "source": [
    "import pandas as pd\n",
    "from io import BytesIO\n",
    "from dk28_cond import *\n",
    "from dk30_cond import *\n",
    "from convert_money import *\n",
    "from dk20_cond import *\n",
    "from dk34_cond import *\n",
    "from kpt import *\n",
    "from htk_dt_ln import *\n",
    "from re_search_cond import *\n",
    "# from semantic_cond import *\n",
    "from log import *\n",
    "\n",
    "\n",
    " \n",
    "def apply_conditions(row):\n",
    "    try:\n",
    "        solutions = []\n",
    "        # for func in [dk39, dk32, dk34, dk28, dk30, dk20]:\n",
    "        for func in [dk39]:\n",
    "            result = func(row)\n",
    "            if result:\n",
    "                solutions.append(result)\n",
    "        if solutions:\n",
    "            text_gp = '\\n \\n'.join(solutions)\n",
    "            sorted_text = sort_conditions(text_gp)\n",
    "            row['GIAI_PHAP'] = sorted_text\n",
    "        return row\n",
    "    except Exception as e:\n",
    "        logger.error(\"Apply condition failed!\", exc_info=e)\n",
    "df = pd.read_excel('data.xlsx',sheet_name='Sheet5')\n",
    "# def run(df: pd.DataFrame) -> pd.DataFrame:\n",
    "def run():\n",
    "\n",
    "    # df = pd.read_excel('data.xlsx',sheet_name='Sheet1')\n",
    "    try:\n",
    "        # Khởi tạo các cột cần thiết\n",
    "        columns_to_initialize = ['dk39', 'dk32', 'dk34', 'dk28', 'dk30', 'dk20', 'GIAI_PHAP']\n",
    "        df[columns_to_initialize] = None\n",
    " \n",
    "        # Áp dụng điều kiện lên từng hàng của DataFrame\n",
    "        df = df.apply(apply_conditions, axis=1)\n",
    " \n",
    "        # Lưu DataFrame sau khi xử lý vào file Excel\n",
    "        df.to_excel('hello.xlsx', index=False)\n",
    " \n",
    "        # Trả về DataFrame đã xử lý\n",
    "        # return df\n",
    "    except Exception as e:\n",
    "        # Ghi log lỗi nếu có lỗi xảy ra\n",
    "        logger.error(\"ERROR RUN SERVICE!\", exc_info=e)\n",
    "        # return df\n",
    " \n",
    "run()\n",
    " \n"
   ]
  },
  {
   "cell_type": "code",
   "execution_count": null,
   "metadata": {},
   "outputs": [],
   "source": []
  }
 ],
 "metadata": {
  "kernelspec": {
   "display_name": "Python 3",
   "language": "python",
   "name": "python3"
  },
  "language_info": {
   "codemirror_mode": {
    "name": "ipython",
    "version": 3
   },
   "file_extension": ".py",
   "mimetype": "text/x-python",
   "name": "python",
   "nbconvert_exporter": "python",
   "pygments_lexer": "ipython3",
   "version": "3.10.0"
  }
 },
 "nbformat": 4,
 "nbformat_minor": 2
}
